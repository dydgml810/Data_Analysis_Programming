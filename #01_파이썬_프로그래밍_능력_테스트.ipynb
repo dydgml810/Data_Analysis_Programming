{
  "nbformat": 4,
  "nbformat_minor": 0,
  "metadata": {
    "colab": {
      "provenance": []
    },
    "kernelspec": {
      "name": "python3",
      "display_name": "Python 3"
    },
    "language_info": {
      "name": "python"
    }
  },
  "cells": [
    {
      "cell_type": "markdown",
      "source": [
        "# 데이터분석프로그래밍 1주차 실습"
      ],
      "metadata": {
        "id": "uiEGdEI7w2_n"
      }
    },
    {
      "cell_type": "markdown",
      "source": [
        "## 실습 시작 전 유의사항\n",
        "\n",
        "※ 상단 메뉴에서 '**파일 - 드라이브에 사본 저장**' 진행 후 시작하세요.\\\n",
        "※ 프로젝트 제목에 본인의 이름과 학번을 작성하세요."
      ],
      "metadata": {
        "id": "N6X3nNmU-haN"
      }
    },
    {
      "cell_type": "markdown",
      "source": [
        "## 실습 개요\n",
        "- 코랩 사용 방법 실습\n",
        "- 파이썬 프로그래밍 능력 테스트"
      ],
      "metadata": {
        "id": "S0uhGiJA9l_C"
      }
    },
    {
      "cell_type": "markdown",
      "source": [
        "---"
      ],
      "metadata": {
        "id": "xB9dX9MIBYQ9"
      }
    },
    {
      "cell_type": "markdown",
      "source": [
        "## 코랩 사용 방법 실습"
      ],
      "metadata": {
        "id": "3Dq2mGTgN6ij"
      }
    },
    {
      "cell_type": "markdown",
      "source": [
        "### 1. 코랩 노트북 파일에서 새로운 셀을 추가하기\n",
        "\n",
        "상단의 탭 또는, 셀 사이에 마우스를 올려 **`+ 코드`** 버튼으로 코드 셀을 추가할 수 있습니다.\n",
        "\n",
        "- 아래 두 셀 사이에 새로운 코드 셀을 추가해봅시다.\n",
        "\n",
        "\n"
      ],
      "metadata": {
        "id": "P9WBjmZIOGb9"
      }
    },
    {
      "cell_type": "markdown",
      "source": [
        "↓↓↓↓↓↓↓↓↓ 이 셀 밑에 새로운 코드 셀을 추가해보세요 ↓↓↓↓↓↓↓↓↓"
      ],
      "metadata": {
        "id": "wUN8vta-QtVD"
      }
    },
    {
      "cell_type": "code",
      "source": [],
      "metadata": {
        "id": "XThjKia4biRO"
      },
      "execution_count": null,
      "outputs": []
    },
    {
      "cell_type": "markdown",
      "source": [
        "↑↑↑↑↑↑↑↑↑ 이 셀 위에 새로운 코드 셀을 추가해보세요 ↑↑↑↑↑↑↑↑↑"
      ],
      "metadata": {
        "id": "CsCQeHXtQuDP"
      }
    },
    {
      "cell_type": "markdown",
      "source": [
        "### 2. 코드 셀을 실행하기\n",
        "\n",
        "코드 셀을 선택한 후 셀의 왼쪽 위에 생기는 ▶ 버튼으로 코드를 실행할 수 있습니다.\\\n",
        "또는 선택한 셀을 **`Shift + Enter`** / **`Ctrl + Enter`** 하여 실행 할 수도 있습니다.\n",
        "\n",
        "오래 실행 중인 셀은 ■ 버튼으로 종료 할 수 있습니다.\n",
        "\n",
        "- 아래 두 셀을 실행해봅시다."
      ],
      "metadata": {
        "id": "7Ys2Jg-WRFd2"
      }
    },
    {
      "cell_type": "code",
      "source": [
        "a = 0       # Shift + Enter는 실행 후 다음 셀로 이동"
      ],
      "metadata": {
        "id": "n2ujOHuMU7zf"
      },
      "execution_count": null,
      "outputs": []
    },
    {
      "cell_type": "code",
      "source": [
        "print(a)    # Ctrl + Enter는 실행 후 이동 X"
      ],
      "metadata": {
        "colab": {
          "base_uri": "https://localhost:8080/"
        },
        "id": "M30wLEvCVcjh",
        "outputId": "74386e8d-8f36-4395-dd9e-61bab7f3ddae"
      },
      "execution_count": null,
      "outputs": [
        {
          "output_type": "stream",
          "name": "stdout",
          "text": [
            "0\n"
          ]
        }
      ]
    },
    {
      "cell_type": "markdown",
      "source": [
        "### 3. 코랩 환경을 이해하기\n",
        "각 셀들은 독자적으로 실행 될 수 있기 때문에 작성한 순서가 아닌 셀이 실행된 순서대로 정보가 쌓입니다.\n",
        "\n",
        "- 이를 이해하기 위해 아래 코드를 여러 번 다시 실행해보며 결과를 확인해보세요."
      ],
      "metadata": {
        "id": "k8ocQlgMWDuX"
      }
    },
    {
      "cell_type": "code",
      "source": [
        "a += 3\n",
        "print(a)"
      ],
      "metadata": {
        "colab": {
          "base_uri": "https://localhost:8080/"
        },
        "id": "cHzUyiwLXDcO",
        "outputId": "88c4f749-fbe4-4a75-8433-0e76097cd018"
      },
      "execution_count": null,
      "outputs": [
        {
          "output_type": "stream",
          "name": "stdout",
          "text": [
            "12\n"
          ]
        }
      ]
    },
    {
      "cell_type": "markdown",
      "source": [
        "이처럼 이전 결과가 쌓여 처음 실행했을 때의 결과가 나오지 않을 수 있습니다.\\\n",
        "그럴 경우에는 상단 메뉴 중 **`런타임 - 다시 시작 및 모두 실행`**으로 쌓인 정보를 전부 지우고 위에서부터 차례대로 모두 실행할 수 있습니다."
      ],
      "metadata": {
        "id": "vNbwe62LXF-C"
      }
    },
    {
      "cell_type": "markdown",
      "source": [
        "## 파이썬 프로그래밍 능력 테스트"
      ],
      "metadata": {
        "id": "E3EuFct0xSFa"
      }
    },
    {
      "cell_type": "markdown",
      "source": [
        "1. 반복문과 조건문을 이용하여 1월~12월까지 입력받은 후 해당 월에 대한 계절을 출력할 수 있는 코드 작성\n",
        "\n",
        "- 3월 ~ 5월: 봄\n",
        "- 6월 ~ 8월: 여름\n",
        "- 9월 ~ 11월: 가을\n",
        "- 12월 ~ 2월: 겨울\n",
        "- 1~12 이외의 입력은 고려하지 않아도 됨."
      ],
      "metadata": {
        "id": "zKc6g3oGyFZp"
      }
    },
    {
      "cell_type": "code",
      "source": [
        "while True:\n",
        "  n = input(\"현재 월(1월~12월 중)을 입력해주세요 (예. 10, 종료하려면 q) \")\n",
        "  if n == 'q':\n",
        "    break\n",
        "\n",
        "  elif n == '3' or n=='4' or n=='5':\n",
        "    print('봄 입니다')\n",
        "  elif n == '6' or n=='7' or n=='8':\n",
        "    print('여름 입니다')\n",
        "  elif n == '9' or n=='10' or n=='11':\n",
        "    print('가을 입니다')\n",
        "  elif n == '12' or n=='1' or n=='2':\n",
        "    print('겨울 입니다')\n",
        "  else:\n",
        "    print(\"1월~12월 중 하나만 입력해주세요\")\n",
        "    continue\n"
      ],
      "metadata": {
        "colab": {
          "base_uri": "https://localhost:8080/"
        },
        "id": "kvDIvLoK1oF9",
        "outputId": "9244191d-9a6d-4244-8f0b-19af7e85091f"
      },
      "execution_count": null,
      "outputs": [
        {
          "name": "stdout",
          "output_type": "stream",
          "text": [
            "현재 월(1월~12월 중)을 입력해주세요 (예. 10, 종료하려면 q) 3\n",
            "봄 입니다\n",
            "현재 월(1월~12월 중)을 입력해주세요 (예. 10, 종료하려면 q) 9\n",
            "가을 입니다\n",
            "현재 월(1월~12월 중)을 입력해주세요 (예. 10, 종료하려면 q) 12\n",
            "겨울 입니다\n",
            "현재 월(1월~12월 중)을 입력해주세요 (예. 10, 종료하려면 q) 5\n",
            "봄 입니다\n",
            "현재 월(1월~12월 중)을 입력해주세요 (예. 10, 종료하려면 q) 6\n",
            "여름 입니다\n",
            "현재 월(1월~12월 중)을 입력해주세요 (예. 10, 종료하려면 q) q\n"
          ]
        }
      ]
    },
    {
      "cell_type": "markdown",
      "source": [
        "2. **중첩반복문**을 사용하여 두개의 주사위를 던질때 두 눈의합이 **4** 또는 **6**이 되는 경우를 모두 출력하는 코드를 작성"
      ],
      "metadata": {
        "id": "PfzIplylQ_vb"
      }
    },
    {
      "cell_type": "code",
      "source": [
        "for i in range(1,7):\n",
        "  for j in range(1,7):\n",
        "    k=i+j\n",
        "    if k==4 or k==6:\n",
        "      print('첫번째 주사위:', i,'두번째 주사위 :', j, '총합', k)"
      ],
      "metadata": {
        "colab": {
          "base_uri": "https://localhost:8080/"
        },
        "id": "sFBVq4nfRQOm",
        "outputId": "736c4d2f-8eaf-4351-b9ec-7da832f76300"
      },
      "execution_count": null,
      "outputs": [
        {
          "output_type": "stream",
          "name": "stdout",
          "text": [
            "첫번째 주사위: 1 두번째 주사위 : 3 총합 4\n",
            "첫번째 주사위: 1 두번째 주사위 : 5 총합 6\n",
            "첫번째 주사위: 2 두번째 주사위 : 2 총합 4\n",
            "첫번째 주사위: 2 두번째 주사위 : 4 총합 6\n",
            "첫번째 주사위: 3 두번째 주사위 : 1 총합 4\n",
            "첫번째 주사위: 3 두번째 주사위 : 3 총합 6\n",
            "첫번째 주사위: 4 두번째 주사위 : 2 총합 6\n",
            "첫번째 주사위: 5 두번째 주사위 : 1 총합 6\n"
          ]
        }
      ]
    },
    {
      "cell_type": "markdown",
      "source": [
        "---"
      ],
      "metadata": {
        "id": "jS1RVkFCst5P"
      }
    },
    {
      "cell_type": "markdown",
      "source": [
        "## 실습 종료 전 유의사항\n",
        "\n",
        "※ 완료 시 우측 상단 프로필 옆 '**공유 - 액세스를 *링크가 있는 모든 사용자*로 전환**' 후 복사한 링크를 이루리 과제 란에 업로드 하세요.\n",
        "\n",
        "<img src=\"https://lh3.googleusercontent.com/drive-viewer/AITFw-wjhSS5IXHGdbpyzA-GaPpZ0GDhNrgiRtgzIo2BdtRJwZlqVJzAg8GyEPRGM-46u8jQTXdQF6JN8AI1iHwz4xHFsnW2=w3838-h1937\" height=300>\n",
        "\n",
        "</br>\n",
        "\n",
        "※ 추가로 상단 메뉴 '**파일 - 다운로드 - .ipynb**' 로 다운로드 후 첨부 파일로 업로드 하세요.\n",
        "\n",
        "※ 즉, 과제의 텍스트란에는 링크를, 파일 첨부란에는 .ipynb 파일을 제출하십시오."
      ],
      "metadata": {
        "id": "PJegQlDY8qGj"
      }
    }
  ]
}