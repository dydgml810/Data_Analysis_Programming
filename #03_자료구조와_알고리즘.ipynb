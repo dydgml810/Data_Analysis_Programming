{
  "nbformat": 4,
  "nbformat_minor": 0,
  "metadata": {
    "colab": {
      "provenance": []
    },
    "kernelspec": {
      "name": "python3",
      "display_name": "Python 3"
    },
    "language_info": {
      "name": "python"
    }
  },
  "cells": [
    {
      "cell_type": "markdown",
      "source": [
        "# 데이터분석프로그래밍 3주차 실습"
      ],
      "metadata": {
        "id": "hZnNRZjSrK2Q"
      }
    },
    {
      "cell_type": "markdown",
      "source": [
        "## 실습 시작 전 유의사항\n",
        "\n",
        "※ 상단 메뉴에서 '**파일 - 드라이브에 사본 저장**' 진행 후 시작하세요.\\\n",
        "※ 프로젝트 제목 뒤에 본인의 이름과 학번을 작성하세요. `ex) DataAnalysisProgramming_#01_202312345_정재호.ipynb`"
      ],
      "metadata": {
        "id": "5bWm0_55Qg6s"
      }
    },
    {
      "cell_type": "markdown",
      "source": [
        "## 실습 개요\n",
        "- Python 자료구조\n",
        "  - dict\n",
        "  - 리스트 인덱싱과 슬라이싱\n",
        "  - 2차원 리스트의 슬라이싱\n",
        "- Numpy Array\n",
        "  - Numpy의 슬라이싱\n",
        "  - array와 list의 연산 차이"
      ],
      "metadata": {
        "id": "4p_R-2UgQiPy"
      }
    },
    {
      "cell_type": "markdown",
      "source": [
        "---"
      ],
      "metadata": {
        "id": "5rTUSFVjQkPw"
      }
    },
    {
      "cell_type": "markdown",
      "source": [
        "## 자료구조 dict\n",
        "dict는 key와 value의 쌍으로 이뤄진 자료구조입니다.\n",
        "\n",
        "dict[key]를 통해 특정 key와 매핑된 value에 접근할 수 있습니다.\n",
        "\n",
        "해당 실습에서는 dict를 이용해 각 과일이 몇 번 언급되는지 카운팅해보도록 합시다.\n"
      ],
      "metadata": {
        "id": "9PNWJRvfvo8U"
      }
    },
    {
      "cell_type": "code",
      "source": [
        "favorite = [\"사과\", \"바나나\", \"체리\", \"사과\", \"사과\", \"복숭아\", \"바나나\", \"사과\"]\n",
        "\n",
        "count_dict = dict()\n",
        "for fruit in favorite:\n",
        "  # if fruit not in count_dict:\n",
        "  #   count_dict[fruit] = 0\n",
        "  # count_dict[fruit] += 1\n",
        "\n",
        "  count_dict[fruit] = count_dict.get(fruit,0) + 1\n",
        "\n",
        "# 각 과일마다 몇 명에 해당되는지 출력\n",
        "for key, value in count_dict.items():\n",
        "  print(f\"[{key}]를 좋아하는 사람은 {value}명 입니다.\")"
      ],
      "metadata": {
        "colab": {
          "base_uri": "https://localhost:8080/"
        },
        "id": "HNNLq_zoubK0",
        "outputId": "13da0bc7-6eff-4322-d5aa-92e3ddb32781"
      },
      "execution_count": null,
      "outputs": [
        {
          "output_type": "stream",
          "name": "stdout",
          "text": [
            "[사과]를 좋아하는 사람은 4명 입니다.\n",
            "[바나나]를 좋아하는 사람은 2명 입니다.\n",
            "[체리]를 좋아하는 사람은 1명 입니다.\n",
            "[복숭아]를 좋아하는 사람은 1명 입니다.\n"
          ]
        }
      ]
    },
    {
      "cell_type": "markdown",
      "source": [
        "## 리스트 인덱싱과 슬라이싱\n",
        "리스트의 원하는 요소에 접근하기 위해 인덱스를 사용하는 방법을 실습해보겠습니다.\\\n",
        "**`array[1]`**처럼 하나의 인덱스로 접근하는 것을 인덱싱,\\\n",
        "**`array[1:3]`**처럼 여러 개의 인덱스로 특정 범위에 접근하는 것을 슬라이싱이라고 합니다.\n",
        "\n",
        "split_list(array) 함수는 임의의 리스트 array를 매개변수로 받아서\\\n",
        "**맨 처음 값**과 **맨 마지막 값**, 그리고 **나머지 중간 값**으로 분리해주는 함수입니다.\n",
        "\n",
        "각 반환값에 상응하도록 올바른 인덱스를 작성해보세요."
      ],
      "metadata": {
        "id": "7sfXNQ3WrVNy"
      }
    },
    {
      "cell_type": "code",
      "source": [
        "def split_list(array):\n",
        "  first_element = array[0]\n",
        "  last_element = array[-1]\n",
        "  middle_element = array[1:-1]\n",
        "\n",
        "  return first_element, middle_element, last_element"
      ],
      "metadata": {
        "id": "lVIeh590zMw3"
      },
      "execution_count": null,
      "outputs": []
    },
    {
      "cell_type": "code",
      "source": [
        "array = [1, 2, 3, 4, 5]\n",
        "\n",
        "# 함수의 결과값을 하나의 변수(result)에 받는 경우\n",
        "result = split_list(array)\n",
        "print(\"함수 결과:\", result)\n",
        "print(\"result의 타입:\", type(result))\n",
        "print()\n",
        "\n",
        "# 함수의 결과값을 여러 개의 변수에 받는 경우 (언패킹)\n",
        "first, middle, last = split_list(array)\n",
        "print(\"처음 값:\", first)\n",
        "print(\"중간 값:\", middle)\n",
        "print(\"마지막 값:\", last)\n",
        "print()\n",
        "\n",
        "# 불필요한 값을 무시하는 방법\n",
        "front, _, back = split_list(array)\n",
        "print(\"처음 값:\", front)\n",
        "print(\"마지막 값:\", back)"
      ],
      "metadata": {
        "colab": {
          "base_uri": "https://localhost:8080/"
        },
        "id": "yqHFiUjEUQTR",
        "outputId": "acab6106-a213-4605-a778-34f570c26c5f"
      },
      "execution_count": null,
      "outputs": [
        {
          "output_type": "stream",
          "name": "stdout",
          "text": [
            "함수 결과: (1, [2, 3, 4], 5)\n",
            "result의 타입: <class 'tuple'>\n",
            "\n",
            "처음 값: 1\n",
            "중간 값: [2, 3, 4]\n",
            "마지막 값: 5\n",
            "\n",
            "처음 값: 1\n",
            "마지막 값: 5\n"
          ]
        }
      ]
    },
    {
      "cell_type": "markdown",
      "source": [
        "## 2차원 리스트의 슬라이싱\n",
        "arr2D에는 4x4 크기의 2차원 리스트가 담겨있습니다.\n",
        "\n",
        "1차원 리스트 때와 마찬가지로 슬라이싱을 할 수 있지만, 슬라이싱 결과가 똑같이 2차원이어서\\\n",
        "가운데 두 개의 **세로줄**을 가져오기 위해서는 새로운 접근이 필요합니다.\n",
        "\n",
        "코드 초반부의 arr2D를 출력하는 for문과 출력 결과를 참고하시길 바랍니다."
      ],
      "metadata": {
        "id": "-k2DMoXmwqJu"
      }
    },
    {
      "cell_type": "code",
      "source": [
        "arr2D = [[ 1,  2,  3,  4],\n",
        "         [ 5,  6,  7,  8],\n",
        "         [ 9, 10, 11, 12],\n",
        "         [13, 14, 15, 16]]\n",
        "\n",
        "print(\"원본 리스트: \")\n",
        "for row in arr2D:\n",
        "  print(row)\n",
        "print()\n",
        "\n",
        "middle_rows = arr2D[1:3]\n",
        "print(\"가운데 두 가로줄:\", middle_rows)\n",
        "print()\n",
        "\n",
        "middle_columns = []\n",
        "for row in arr2D:\n",
        "  middle_columns.append(row[1:3])\n",
        "print(\"가운데 두 세로줄:\", middle_columns)"
      ],
      "metadata": {
        "colab": {
          "base_uri": "https://localhost:8080/"
        },
        "id": "MfOJpZ8kG7L2",
        "outputId": "946d85b6-b1db-4ea1-d662-caad01838cf1"
      },
      "execution_count": null,
      "outputs": [
        {
          "output_type": "stream",
          "name": "stdout",
          "text": [
            "원본 리스트: \n",
            "[1, 2, 3, 4]\n",
            "[5, 6, 7, 8]\n",
            "[9, 10, 11, 12]\n",
            "[13, 14, 15, 16]\n",
            "\n",
            "가운데 두 가로줄: [[5, 6, 7, 8], [9, 10, 11, 12]]\n",
            "\n",
            "가운데 두 세로줄: [[2, 3], [6, 7], [10, 11], [14, 15]]\n"
          ]
        }
      ]
    },
    {
      "cell_type": "markdown",
      "source": [
        "## NumPy의 슬라이싱\n",
        "npArr2D에는 4x4 크기의 numpy array가 담겨있습니다.\n",
        "\n",
        "기본 자료구조 리스트와는 다르게 **동시에 여러 차원의 인덱싱**이 가능해집니다.\n",
        "\n",
        "리스트에서 특정 행과 특정 열의 값을 가져오려면 arr2D[1][2]과 같이 두 번의 인덱싱을 거쳐야했지만,\\\n",
        "np.array에서는 npArr2D[1, 2]처럼 **콤마**를 통해 한 번에 여러 차원의 접근할 수 있습니다.\n",
        "\n",
        "이런 방식은 **슬라이싱**도 마찬가지입니다.\\\n",
        "이를 이용해서 궁극적으로는 **중앙 2x2의 값들**을 출력해보도록 합시다."
      ],
      "metadata": {
        "id": "oZ5ficCuesaJ"
      }
    },
    {
      "cell_type": "code",
      "source": [
        "import numpy as np\n",
        "\n",
        "npArr2D = np.array([[ 1,  2,  3,  4],\n",
        "                    [ 5,  6,  7,  8],\n",
        "                    [ 9, 10, 11, 12],\n",
        "                    [13, 14, 15, 16]])\n",
        "\n",
        "print(\"원본 리스트: \", npArr2D, '', sep='\\n')\n",
        "\n",
        "middle_rows = npArr2D[1:3,:]\n",
        "print(\"가운데 두 가로줄:\", middle_rows, '', sep='\\n')\n",
        "\n",
        "middle_columns = npArr2D[:, 1:3]\n",
        "print(\"가운데 두 세로줄:\", middle_columns, '', sep='\\n')\n",
        "\n",
        "middle_2x2 = npArr2D[1:3, 1:3]\n",
        "print(\"가운데 2x2 칸:\", middle_2x2, '', sep='\\n')"
      ],
      "metadata": {
        "colab": {
          "base_uri": "https://localhost:8080/"
        },
        "id": "wn1odvElJsKp",
        "outputId": "cc3cfd01-b89e-4faf-d3e5-3750159da2c6"
      },
      "execution_count": null,
      "outputs": [
        {
          "output_type": "stream",
          "name": "stdout",
          "text": [
            "원본 리스트: \n",
            "[[ 1  2  3  4]\n",
            " [ 5  6  7  8]\n",
            " [ 9 10 11 12]\n",
            " [13 14 15 16]]\n",
            "\n",
            "가운데 두 가로줄:\n",
            "[[ 5  6  7  8]\n",
            " [ 9 10 11 12]]\n",
            "\n",
            "가운데 두 세로줄:\n",
            "[[ 2  3]\n",
            " [ 6  7]\n",
            " [10 11]\n",
            " [14 15]]\n",
            "\n",
            "가운데 2x2 칸:\n",
            "[[ 6  7]\n",
            " [10 11]]\n",
            "\n"
          ]
        }
      ]
    },
    {
      "cell_type": "markdown",
      "source": [
        "## Numpy array와 list의 연산 차이\n",
        "Numpy의 array는 list와는 다르게 유용한 연산자들을 제공합니다.\n",
        "\n",
        "list에서는 할 수 없었던 일들을 가능하게 해주어 여러 복잡한 과정들을 간결하게 해줍니다.\n"
      ],
      "metadata": {
        "id": "1bXY3WLzg4ps"
      }
    },
    {
      "cell_type": "code",
      "source": [
        "listA = [1, 2, 3]\n",
        "listB = [4, 5, 6]\n",
        "\n",
        "# list와 상수간의 연산\n",
        "# print(listA + 5) # 불가능\n",
        "print(listA * 3)\n",
        "\n",
        "# list와 list간의 연산\n",
        "print(listA + listB)\n",
        "# print(listA - listB, listA * listB, listA / listB) # 불가능"
      ],
      "metadata": {
        "colab": {
          "base_uri": "https://localhost:8080/"
        },
        "id": "O4N87-d1hxI2",
        "outputId": "cb6260d7-8380-42b2-d430-378e8416ebeb"
      },
      "execution_count": null,
      "outputs": [
        {
          "output_type": "stream",
          "name": "stdout",
          "text": [
            "[1, 2, 3, 1, 2, 3, 1, 2, 3]\n",
            "[1, 2, 3, 4, 5, 6]\n"
          ]
        }
      ]
    },
    {
      "cell_type": "code",
      "source": [
        "arrA = np.array([1, 2, 3])\n",
        "arrB = np.array([4, 5, 6])\n",
        "\n",
        "# array와 상수간의 연산\n",
        "print(arrA + 5)\n",
        "print(arrA * 3)\n",
        "\n",
        "# array와 array간의 연산\n",
        "print(arrA + arrB)\n",
        "print(arrA - arrB, arrA * arrB, arrA / arrB)"
      ],
      "metadata": {
        "colab": {
          "base_uri": "https://localhost:8080/"
        },
        "id": "l5GF5QKDg5Ja",
        "outputId": "b9bd7dd5-9b02-41b0-8627-44447ccb345d"
      },
      "execution_count": null,
      "outputs": [
        {
          "output_type": "stream",
          "name": "stdout",
          "text": [
            "[6 7 8]\n",
            "[3 6 9]\n",
            "[5 7 9]\n",
            "[-3 -3 -3] [ 4 10 18] [0.25 0.4  0.5 ]\n"
          ]
        }
      ]
    },
    {
      "cell_type": "markdown",
      "source": [
        "## 실습 종료 전 유의사항\n",
        "\n",
        "※ 완료 시 우측 상단 프로필 옆 '**공유 - 액세스를 *링크가 있는 모든 사용자*로 전환**' 후 복사한 링크를 이루리 과제 란에 업로드 하세요.\n",
        "\n",
        "<img src=\"https://lh3.googleusercontent.com/drive-viewer/AITFw-wjhSS5IXHGdbpyzA-GaPpZ0GDhNrgiRtgzIo2BdtRJwZlqVJzAg8GyEPRGM-46u8jQTXdQF6JN8AI1iHwz4xHFsnW2=w3838-h1937\" height=300>\n",
        "\n",
        "</br>\n",
        "\n",
        "※ 추가로 상단 메뉴 '**파일 - 다운로드 - .ipynb**' 로 다운로드 후 첨부 파일로 업로드 하세요.\n",
        "\n",
        "※ 즉, 과제의 텍스트란에는 링크를, 파일 첨부란에는 .ipynb 파일을 제출하십시오."
      ],
      "metadata": {
        "id": "mMVYhfp9x259"
      }
    }
  ]
}