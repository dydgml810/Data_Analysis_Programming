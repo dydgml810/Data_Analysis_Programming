{
  "nbformat": 4,
  "nbformat_minor": 0,
  "metadata": {
    "colab": {
      "provenance": []
    },
    "kernelspec": {
      "name": "python3",
      "display_name": "Python 3"
    },
    "language_info": {
      "name": "python"
    }
  },
  "cells": [
    {
      "cell_type": "markdown",
      "source": [
        "# 데이터분석프로그래밍 2주차 실습"
      ],
      "metadata": {
        "id": "83k2WbS4rROf"
      }
    },
    {
      "cell_type": "markdown",
      "source": [
        "## 실습 시작 전 유의사항\n",
        "\n",
        "※ 상단 메뉴에서 '**파일 - 드라이브에 사본 저장**' 진행 후 시작하세요.\\\n",
        "※ 프로젝트 제목 뒤에 본인의 이름과 학번을 작성하세요. `ex) DataAnalysisProgramming_#01_202312345_정재호.ipynb`"
      ],
      "metadata": {
        "id": "1CXfTaxCFmvA"
      }
    },
    {
      "cell_type": "markdown",
      "source": [
        "## 실습 개요\n",
        "- 함수와 매개변수\n",
        "- 클래스와 객체\n",
        "- 모듈 사용"
      ],
      "metadata": {
        "id": "t-Nvn6uxkrOt"
      }
    },
    {
      "cell_type": "markdown",
      "source": [
        "---"
      ],
      "metadata": {
        "id": "fBW5t6eiFqLF"
      }
    },
    {
      "cell_type": "markdown",
      "source": [
        "# 함수와 매개변수\n",
        "\n",
        "가변매개변수(위치가변인자)를 사용하여 여러 개의 값이 주어지면, 그 중 평균값과 최댓값을 반환하는 함수를 만들어보자.\n",
        "\n",
        "`return mean, max_value`"
      ],
      "metadata": {
        "id": "_NoPbkJE0WMM"
      }
    },
    {
      "cell_type": "code",
      "source": [
        "def statistics(*values):\n",
        "\n",
        "  mean = sum(values)/len(values)\n",
        "  max_value = max(values)\n",
        "\n",
        "  return mean, max_value\n",
        "\n",
        "mean, max_value = statistics(5, 3, 1, 6, 2)\n",
        "print(f\"평균값: {mean}, 최댓값: {max_value}\")\n",
        "\n",
        "mean, max_value = statistics(5, 3, 1, 6, 2, 7, 9, 3)\n",
        "print(f\"평균값: {mean}, 최댓값: {max_value}\")"
      ],
      "metadata": {
        "colab": {
          "base_uri": "https://localhost:8080/"
        },
        "id": "w2XjYsmdrRXN",
        "outputId": "e0b7b13d-999c-4c9a-8f78-ef80443302cc"
      },
      "execution_count": null,
      "outputs": [
        {
          "output_type": "stream",
          "name": "stdout",
          "text": [
            "평균값: 3.4, 최댓값: 6\n",
            "평균값: 4.5, 최댓값: 9\n"
          ]
        }
      ]
    },
    {
      "cell_type": "markdown",
      "source": [
        "## 클래스와 객체\n",
        "아래의 예제 코드를 실행할 수 있도록 Car 클래스 스켈레톤 코드의 각 기능들을 구현해보자.\n",
        "- \\_\\_init\\_\\_ 함수: model, max_speed를 인스턴스에 저장하고, speed를 0으로 초기화 한다.\n",
        "- set_speed 함수: 현재 속도를 target_speed로 만드는 함수.\\\n",
        "  현재 속도가 max_speed를 넘지 않아야 하고, 0보다 작아지면 안 되게 조절한다.\n",
        "- brake 함수: 서서히 정차하여 속도가 0이 되는 함수.\\\n",
        "  재귀 함수를 이용하여 속도가 10씩 줄어들게 해보자.\n",
        "- print_state 함수: 현재 상태를 출력하는 함수."
      ],
      "metadata": {
        "id": "qs_txdwdmLFu"
      }
    },
    {
      "cell_type": "code",
      "source": [
        "class Car():\n",
        "  def __init__(self, model, max_speed):\n",
        "    self.model = model\n",
        "    self.max_speed = max_speed\n",
        "    self.speed = 0\n",
        "\n",
        "  def set_speed(self, target_speed):\n",
        "    if target_speed > self.max_speed:\n",
        "      target_speed = self.max_speed\n",
        "\n",
        "    if target_speed < 0:\n",
        "      target_speed = 0\n",
        "    self.speed = target_speed\n",
        "    print(f\"현재 속도: {self.speed}/{self.max_speed}\")\n",
        "\n",
        "  def brake(self):\n",
        "    while self.speed > 0:\n",
        "      self.speed = self.speed - 10\n",
        "      if self.speed < 0:\n",
        "        self.speed = 0\n",
        "      print(f\"감속 중: {self.speed}/{self.max_speed}\")\n",
        "\n",
        "  # def brake(self):\n",
        "  #   self.speed = max(0, self.speed - 10)\n",
        "  #   print(f\"감속 중: {self.speed}/{self.max_speed}\")\n",
        "  #   if self.speed > 0 :\n",
        "  #     self.brake()\n",
        "\n",
        "  def print_state(self):\n",
        "    print(\"====================================\")\n",
        "    print(f\"모델명: {self.model} || 현재 속도: {self.speed}/{self.max_speed}\")\n",
        "    print(\"====================================\")"
      ],
      "metadata": {
        "id": "BXe5HlQUnAOw"
      },
      "execution_count": null,
      "outputs": []
    },
    {
      "cell_type": "markdown",
      "source": [
        "아래는 Car 클래스를 테스트하기 위한 예제 코드입니다.\\\n",
        "`ex) print → speed, 200 → brake → end`"
      ],
      "metadata": {
        "id": "XWmw_QL5Un6j"
      }
    },
    {
      "cell_type": "code",
      "source": [
        "myCar = Car(\"K3\", 180)\n",
        "\n",
        "print(\"운전을 시작합니다. 다음 명령어를 입력하세요.\")\n",
        "print(\"speed: 속도 조절, brake: 정차, print: 현재 상태 출력, end: 시동 끄기\")\n",
        "while True:\n",
        "  cmd = input(\">> \")\n",
        "  if cmd == \"speed\":\n",
        "    num = int(input(\"목표 속도: \"))\n",
        "    myCar.set_speed(num)\n",
        "\n",
        "  elif cmd == \"brake\":\n",
        "    myCar.brake()\n",
        "\n",
        "  elif cmd == \"print\":\n",
        "    myCar.print_state()\n",
        "\n",
        "  elif cmd == \"end\":\n",
        "    break\n",
        "\n",
        "  else:\n",
        "    print(\"없는 명령어입니다.\")"
      ],
      "metadata": {
        "colab": {
          "base_uri": "https://localhost:8080/"
        },
        "id": "Kb4jfsnnsHJL",
        "outputId": "565ce6c7-81a2-4e8a-ac09-126d7cd1c476"
      },
      "execution_count": null,
      "outputs": [
        {
          "name": "stdout",
          "output_type": "stream",
          "text": [
            "운전을 시작합니다. 다음 명령어를 입력하세요.\n",
            "speed: 속도 조절, brake: 정차, print: 현재 상태 출력, end: 시동 끄기\n",
            ">> print\n",
            "====================================\n",
            "모델명: K3 || 현재 속도: 0/180\n",
            "====================================\n",
            ">> speed\n",
            "목표 속도: 200\n",
            "현재 속도: 180/180\n",
            ">> brake\n",
            "감속 중: 170/180\n",
            "감속 중: 160/180\n",
            "감속 중: 150/180\n",
            "감속 중: 140/180\n",
            "감속 중: 130/180\n",
            "감속 중: 120/180\n",
            "감속 중: 110/180\n",
            "감속 중: 100/180\n",
            "감속 중: 90/180\n",
            "감속 중: 80/180\n",
            "감속 중: 70/180\n",
            "감속 중: 60/180\n",
            "감속 중: 50/180\n",
            "감속 중: 40/180\n",
            "감속 중: 30/180\n",
            "감속 중: 20/180\n",
            "감속 중: 10/180\n",
            "감속 중: 0/180\n",
            ">> end\n"
          ]
        }
      ]
    },
    {
      "cell_type": "markdown",
      "source": [
        "## 클래스 상속\n",
        "Car 클래스를 상속한 Taxi 클래스를 구현해보자.\n",
        "Taxi는 Car의 기능을 대부분 동일하게 사용하기 때문에, super을 적절히 사용하자.\n",
        "- \\_\\_init\\_\\_ 함수: 매개변수 base_money가 추가되었다. 그리고 money와 passenger까지 각각 0과 \"\"으로 초기화해주자.\n",
        "- set_speed 함수: Car의 set_speed와 기능은 동일하나, 승객이 타고 있다면 현재 speed만큼 요금이 증가하도록 구현하자.\n",
        "- ~~brake 함수: 오버라이딩 할 필요가 없다.~~\n",
        "- start 함수: 속도가 0일 때만 승객을 태울 수 있다.\\\n",
        "  탑승하게 되면 요금이 기본 요금(base_money)으로 시작된다.\n",
        "- stop 함수: 속도가 0일 때만 승객을 내릴 수 있다.\\\n",
        "  요금을 정산했다는 알림을 출력하고 money와 passenger를 초기화한다.\n",
        "- print_state 함수: 현재 상태를 출력하는 함수.\\\n",
        "  출력 형식이 바뀌었기 때문에 super을 사용할 수 없다."
      ],
      "metadata": {
        "id": "MKho3kxzk4RI"
      }
    },
    {
      "cell_type": "code",
      "source": [
        "class Taxi(Car):\n",
        "  def __init__(self, model, max_speed, base_money):\n",
        "    super().__init__(model, max_speed)   # Car 클래스의 생성자를 호출\n",
        "    self.base_money = base_money\n",
        "    self.money = 0\n",
        "    self.passenger = \"\"\n",
        "\n",
        "  def set_speed(self, target_speed):\n",
        "    super().set_speed(target_speed) # Car 클래스의 set_speed를 호출\n",
        "    if self.passenger:\n",
        "      self.money += self.speed\n",
        "      print(f\"현재 요금: {self.money}원\")\n",
        "\n",
        "  def start(self, passenger):\n",
        "    if self.speed == 0:\n",
        "      print(\"택시 운행을 시작합니다.\")\n",
        "      self.passenger = passenger\n",
        "      self.money = self.base_money\n",
        "\n",
        "  def stop(self):\n",
        "    if self.speed == 0:\n",
        "      print(f\"요금 {self.money}원을 정산했습니다.\")\n",
        "      self.money = 0\n",
        "      self.passenger = \"\"\n",
        "\n",
        "  def print_state(self):\n",
        "    print(\"====================================\")\n",
        "    print(f\"모델명: {self.model} || 현재 속도: {self.speed}/{self.max_speed}\")\n",
        "    print(f\"승객: {self.passenger} || 택시 요금: {self.money}원\")\n",
        "    print(\"====================================\")"
      ],
      "metadata": {
        "id": "3-_sCAp90Rv4"
      },
      "execution_count": null,
      "outputs": []
    },
    {
      "cell_type": "markdown",
      "source": [
        "아래는 Taxi 클래스를 테스트하기 위한 예제 코드입니다.\\\n",
        "`ex) start, 곰두리 → print → speed, 40 → speed, 80 → brake → stop → print → end`"
      ],
      "metadata": {
        "id": "fqotatIWW6kq"
      }
    },
    {
      "cell_type": "code",
      "source": [
        "myTaxi = Taxi(\"쏘나타\", 120, 3800)\n",
        "\n",
        "print(\"택시 운전을 시작합니다. 다음 명령어를 입력하세요.\")\n",
        "print(\"speed: 속도 조절, brake: 정차, start: 운행 시작, stop: 운행 종료, print: 현재 상태 출력, end: 시동 끄기\")\n",
        "while True:\n",
        "  cmd = input(\">> \")\n",
        "  if cmd == \"speed\":\n",
        "    num = int(input(\"목표 속도: \"))\n",
        "    myTaxi.set_speed(num)\n",
        "\n",
        "  elif cmd == \"brake\":\n",
        "    myTaxi.brake()\n",
        "\n",
        "  elif cmd == \"start\":\n",
        "    passenger = input(\"승객 입력: \")\n",
        "    myTaxi.start(passenger)\n",
        "\n",
        "  elif cmd == \"stop\":\n",
        "    myTaxi.stop()\n",
        "\n",
        "  elif cmd == \"print\":\n",
        "    myTaxi.print_state()\n",
        "\n",
        "  elif cmd == \"end\":\n",
        "    break\n",
        "\n",
        "  else:\n",
        "    print(\"없는 명령어입니다.\")"
      ],
      "metadata": {
        "colab": {
          "base_uri": "https://localhost:8080/"
        },
        "id": "x6D2RjQGdfKW",
        "outputId": "59951c84-5ef2-40ac-96b8-a8b83a1ddcdf"
      },
      "execution_count": null,
      "outputs": [
        {
          "name": "stdout",
          "output_type": "stream",
          "text": [
            "택시 운전을 시작합니다. 다음 명령어를 입력하세요.\n",
            "speed: 속도 조절, brake: 정차, start: 운행 시작, stop: 운행 종료, print: 현재 상태 출력, end: 시동 끄기\n",
            ">> start\n",
            "승객 입력: 곰두리\n",
            "택시 운행을 시작합니다.\n",
            ">> print\n",
            "====================================\n",
            "모델명: 쏘나타 || 현재 속도: 0/120\n",
            "승객: 곰두리 || 택시 요금: 3800원\n",
            "====================================\n",
            ">> speed\n",
            "목표 속도: 40\n",
            "현재 속도: 40/120\n",
            "현재 요금: 3840원\n",
            ">> speed\n",
            "목표 속도: 80\n",
            "현재 속도: 80/120\n",
            "현재 요금: 3920원\n",
            ">> brake\n",
            "감속 중: 70/120\n",
            "감속 중: 60/120\n",
            "감속 중: 50/120\n",
            "감속 중: 40/120\n",
            "감속 중: 30/120\n",
            "감속 중: 20/120\n",
            "감속 중: 10/120\n",
            "감속 중: 0/120\n",
            ">> stop\n",
            "요금 3920원을 정산했습니다.\n",
            ">> print\n",
            "====================================\n",
            "모델명: 쏘나타 || 현재 속도: 0/120\n",
            "승객:  || 택시 요금: 0원\n",
            "====================================\n",
            ">> end\n"
          ]
        }
      ]
    },
    {
      "cell_type": "markdown",
      "source": [
        "# 모듈 사용\n",
        "외부에 미리 구현돼있는 함수들을 사용하려면 그 함수들을 import 해야합니다.\n",
        "\n",
        "아래 예제의 함수들을 사용할 수 있도록 힌트를 참고하여 알맞게 import 해봅시다.\n",
        "- os.getcwd: **os 모듈**을 import 해서 os의 모든 함수를 가져와야합니다.\n",
        "- rand.randrange: **random 모듈**을 import하고 이를 **rand**라는 이름으로 지정해야합니다.\n",
        "- fact: **math 모듈의 factorial 함수** 하나만 import하고 이를 **fact**라는 이름으로 지정해야합니다."
      ],
      "metadata": {
        "id": "swHHh09fEPqq"
      }
    },
    {
      "cell_type": "code",
      "source": [
        "import os   # os\n",
        "import random as rand   # random\n",
        "from math import factorial as fact   # math\n",
        "\n",
        "print(f'현재 디렉토리: {os.getcwd()}')\n",
        "print(f'주사위의 값: {rand.randrange(1, 7)}')\n",
        "print(f'5! = {fact(5)}')"
      ],
      "metadata": {
        "colab": {
          "base_uri": "https://localhost:8080/"
        },
        "id": "Lb4Bm8T_FnSG",
        "outputId": "7b4a80f5-f704-4816-9887-180cd0de23d0"
      },
      "execution_count": null,
      "outputs": [
        {
          "output_type": "stream",
          "name": "stdout",
          "text": [
            "현재 디렉토리: /content\n",
            "주사위의 값: 4\n",
            "5! = 120\n"
          ]
        }
      ]
    },
    {
      "cell_type": "markdown",
      "source": [
        "---"
      ],
      "metadata": {
        "id": "u8cy8jLIkyax"
      }
    },
    {
      "cell_type": "markdown",
      "source": [
        "## 실습 종료 전 유의사항\n",
        "\n",
        "※ 완료 시 우측 상단 프로필 옆 '**공유 - 액세스를 *링크가 있는 모든 사용자*로 전환**' 후 복사한 링크를 이루리 과제 란에 업로드 하세요.\n",
        "\n",
        "<img src=\"https://lh3.googleusercontent.com/drive-viewer/AITFw-wjhSS5IXHGdbpyzA-GaPpZ0GDhNrgiRtgzIo2BdtRJwZlqVJzAg8GyEPRGM-46u8jQTXdQF6JN8AI1iHwz4xHFsnW2=w3838-h1937\" height=300>\n",
        "\n",
        "</br>\n",
        "\n",
        "※ 추가로 상단 메뉴 '**파일 - 다운로드 - .ipynb**' 로 다운로드 후 첨부 파일로 업로드 하세요.\n",
        "\n",
        "※ 즉, 과제의 텍스트란에는 링크를, 파일 첨부란에는 .ipynb 파일을 제출하십시오."
      ],
      "metadata": {
        "id": "UYIiucPLkxnf"
      }
    }
  ]
}